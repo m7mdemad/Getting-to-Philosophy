{
  "nbformat": 4,
  "nbformat_minor": 0,
  "metadata": {
    "colab": {
      "name": "getting _to_philosophy.ipynb",
      "provenance": []
    },
    "kernelspec": {
      "name": "python3",
      "display_name": "Python 3"
    }
  },
  "cells": [
    {
      "cell_type": "markdown",
      "metadata": {
        "id": "_fcUld5uyZOx",
        "colab_type": "text"
      },
      "source": [
        "**Imports**"
      ]
    },
    {
      "cell_type": "code",
      "metadata": {
        "id": "u6RB5iNayOtu",
        "colab_type": "code",
        "colab": {}
      },
      "source": [
        "import bs4\n",
        "import requests\n",
        "import time"
      ],
      "execution_count": 1,
      "outputs": []
    },
    {
      "cell_type": "markdown",
      "metadata": {
        "id": "VMTV6yUuzEj4",
        "colab_type": "text"
      },
      "source": [
        "**Get the first normal link in the body of a wikipedia article**\n"
      ]
    },
    {
      "cell_type": "code",
      "metadata": {
        "id": "1guURgYRy593",
        "colab_type": "code",
        "colab": {}
      },
      "source": [
        "def get_first_link(link):\n",
        "  \"\"\"\n",
        "    This function returns the first link in the wikipedia article\n",
        "    while considering the given rules.\n",
        "\n",
        "    args:\n",
        "      link: type = 'string'  \n",
        "            contain the the wikipedia link to use\n",
        "    \n",
        "    return: type = 'string'\n",
        "            contain the next link to use\n",
        "  \"\"\"\n",
        "\n",
        "  # Request the link\n",
        "  response = requests.get(link)\n",
        "  # Get the link html\n",
        "  html = response.text\n",
        "  # Parse it\n",
        "  soup = bs4.BeautifulSoup(html, \"html.parser\")\n",
        "  # Select the content div\n",
        "  content_text_div = soup.find(id='mw-content-text').find(class_=\"mw-parser-output\")\n",
        "  # Select the paragraphs\n",
        "  paragraphs = content_text_div.find_all('p')\n",
        "\n",
        "  # Get the paragraphs \n",
        "  for p in paragraphs:\n",
        "    if p.find(\"a\"):\n",
        "        # Get the links from the 'a' tags \n",
        "        next_link = p.find(\"a\").get('href')\n",
        "        if not next_link:\n",
        "            return None\n",
        "        # Make sure it is a normal link and not pointing to the current page\n",
        "        if 'wiki' in next_link.split(\"/\") and next_link != link.split(\"https://en.wikipedia.org/\")[1]:\n",
        "          return 'https://en.wikipedia.org'+next_link\n",
        "  \n",
        "  # Failed to find normal link  \n",
        "  return None\n"
      ],
      "execution_count": 2,
      "outputs": []
    },
    {
      "cell_type": "markdown",
      "metadata": {
        "id": "8_2aX-XriGQX",
        "colab_type": "text"
      },
      "source": [
        "**Examine the link and decide whether it is the goal or not**"
      ]
    },
    {
      "cell_type": "code",
      "metadata": {
        "id": "-mLcBntwiG0-",
        "colab_type": "code",
        "colab": {}
      },
      "source": [
        "def print_visited_links(visited_links):\n",
        "  print('******************** Visited links ********************')\n",
        "  for counter, link in enumerate(visited_links):\n",
        "    print(str(counter + 1) + '- ' + link)\n",
        "\n",
        "def examine_link(current_link, goal_link, visited_links):\n",
        "  \"\"\"\n",
        "    Test if the search should terminate. And if it will terminate then print \n",
        "    the reason of termination and visited links. \n",
        "  \n",
        "    args:\n",
        "      current_link: type = 'string'  \n",
        "            contain the current wikipedia link in use\n",
        "      goal_link: type = 'string'  \n",
        "            contain the goal wikipedia link that we hope to reach\n",
        "      visited_links: type = 'list of strings'  \n",
        "            contain all the visited wikipedia links\n",
        "\n",
        "    return: type = 'bool'\n",
        "            False to terminate the search, True to keep it going.\n",
        "  \"\"\" \n",
        "  \n",
        "  # If link is already visited, then terminate \n",
        "  if current_link in visited_links:\n",
        "    print('Loop has been detected')\n",
        "    visited_links.append(current_link)\n",
        "    print_visited_links(visited_links)\n",
        "    return False\n",
        "\n",
        "  # If we couldn't find a link to go to in the current article, then terminate \n",
        "  if not current_link:\n",
        "    print('Dead end, could not reach the goal')\n",
        "    print_visited_links(visited_links)\n",
        "    return False\n",
        "\n",
        "  # If goal link has been reached, then terminate \n",
        "  if current_link == goal_link:\n",
        "    print('The target link has been reached')\n",
        "    visited_links.append(current_link)\n",
        "    print_visited_links(visited_links)\n",
        "    return False\n",
        "\n",
        "  # Else, keep search going \n",
        "  visited_links.append(current_link)\n",
        "  return True"
      ],
      "execution_count": 3,
      "outputs": []
    },
    {
      "cell_type": "markdown",
      "metadata": {
        "id": "GCOvng9c0Ro-",
        "colab_type": "text"
      },
      "source": [
        "**Main function**"
      ]
    },
    {
      "cell_type": "code",
      "metadata": {
        "id": "N2cMwDogmBFn",
        "colab_type": "code",
        "colab": {}
      },
      "source": [
        "def main(current_link, goal_link):\n",
        "  # Intialize an empty list to hold the visited links\n",
        "  visited_links = []\n",
        "  # Search\n",
        "  while(examine_link(current_link, goal_link, visited_links)):\n",
        "    # update the current_link\n",
        "    current_link =  get_first_link(current_link)\n",
        "    # sleep for .5 to avoid blocking \n",
        "    time.sleep(.5)\n"
      ],
      "execution_count": 4,
      "outputs": []
    },
    {
      "cell_type": "code",
      "metadata": {
        "id": "2xulZHG50UEX",
        "colab_type": "code",
        "colab": {
          "base_uri": "https://localhost:8080/",
          "height": 221
        },
        "outputId": "6315c5f8-ecc3-41ee-c9da-12d0a4d505b5"
      },
      "source": [
        "main('https://en.wikipedia.org/wiki/Special:Random', 'https://en.wikipedia.org/wiki/Philosophy')\n"
      ],
      "execution_count": 13,
      "outputs": [
        {
          "output_type": "stream",
          "text": [
            "The target link has been reached\n",
            "******************** Visited links ********************\n",
            "1- https://en.wikipedia.org/wiki/Special:Random\n",
            "2- https://en.wikipedia.org/wiki/Australian_rules_football\n",
            "3- https://en.wikipedia.org/wiki/Kick_(football)\n",
            "4- https://en.wikipedia.org/wiki/Football\n",
            "5- https://en.wikipedia.org/wiki/Team_sport\n",
            "6- https://en.wikipedia.org/wiki/Sport\n",
            "7- https://en.wikipedia.org/wiki/Competition\n",
            "8- https://en.wikipedia.org/wiki/Goal\n",
            "9- https://en.wikipedia.org/wiki/Idea\n",
            "10- https://en.wikipedia.org/wiki/Philosophy\n"
          ],
          "name": "stdout"
        }
      ]
    }
  ]
}